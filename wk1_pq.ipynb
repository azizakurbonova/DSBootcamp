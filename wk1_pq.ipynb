{
 "cells": [
  {
   "attachments": {},
   "cell_type": "markdown",
   "metadata": {},
   "source": [
    "Aziza Kurbonova, ak6330, Data Science Bootcamp Practice Questions Week 1"
   ]
  },
  {
   "cell_type": "code",
   "execution_count": 8,
   "metadata": {},
   "outputs": [
    {
     "name": "stdout",
     "output_type": "stream",
     "text": [
      "0\n",
      "1\n",
      "1\n",
      "2\n",
      "3\n",
      "5\n",
      "8\n",
      "13\n",
      "21\n",
      "34\n"
     ]
    }
   ],
   "source": [
    "#Question 1\n",
    "def fib(n):\n",
    "    if n == 0:\n",
    "        return 0\n",
    "    elif n == 1:\n",
    "        return 1\n",
    "    else:\n",
    "        return fib(n-1) + fib(n-2)\n",
    "\n",
    "for i in range(10):\n",
    "    print(fib(i))\n"
   ]
  },
  {
   "cell_type": "code",
   "execution_count": 10,
   "metadata": {},
   "outputs": [
    {
     "name": "stdout",
     "output_type": "stream",
     "text": [
      "1\n",
      "3\n",
      "5\n",
      "7\n"
     ]
    }
   ],
   "source": [
    "#Question 2\n",
    "def oddDisp(lst):\n",
    "    for i in range(len(lst)):\n",
    "        if (i % 2) != 0:\n",
    "            print(lst[i])\n",
    "\n",
    "oddDisp([0,1,2,3,4,5,6,7,8])"
   ]
  },
  {
   "cell_type": "code",
   "execution_count": 12,
   "metadata": {},
   "outputs": [
    {
     "name": "stdout",
     "output_type": "stream",
     "text": [
      "8\n",
      "7\n",
      "6\n",
      "5\n",
      "4\n",
      "3\n",
      "2\n",
      "1\n",
      "0\n"
     ]
    }
   ],
   "source": [
    "#Question 3\n",
    "def reverse(lst):\n",
    "    for i in range(len(lst)-1,-1,-1):\n",
    "        print(lst[i])\n",
    "\n",
    "reverse([0,1,2,3,4,5,6,7,8])"
   ]
  },
  {
   "cell_type": "code",
   "execution_count": 18,
   "metadata": {},
   "outputs": [
    {
     "name": "stdout",
     "output_type": "stream",
     "text": [
      "The number of different words in the string given is: 47\n"
     ]
    }
   ],
   "source": [
    "#Question 4\n",
    "str_dict = {}\n",
    "string = \"\"\"\n",
    "\tChatGPT has created this text to provide tips on creating interesting paragraphs. \n",
    "\tFirst, start with a clear topic sentence that introduces the main idea. \n",
    "\tThen, support the topic sentence with specific details, examples, and evidence.\n",
    "\tVary the sentence length and structure to keep the reader engaged.\n",
    "\tFinally, end with a strong concluding sentence that summarizes the main points.\n",
    "\tRemember, practice makes perfect!\n",
    "\t\"\"\"\n",
    "str_lst = string.lower().replace(',','').replace('!','').replace('.','').split()\n",
    "\n",
    "for word in str_lst:\n",
    "    if word not in str_dict:\n",
    "        str_dict[word] = 0\n",
    "    else:\n",
    "        str_dict[word] += 1\n",
    "\n",
    "print(f\"The number of different words in the string given is: {len(str_dict)}\")"
   ]
  },
  {
   "cell_type": "code",
   "execution_count": 20,
   "metadata": {},
   "outputs": [
    {
     "name": "stdout",
     "output_type": "stream",
     "text": [
      "4\n"
     ]
    }
   ],
   "source": [
    "#Question 5\n",
    "def numVowels(word):\n",
    "    count = 0\n",
    "    vowels = \"aeiou\"\n",
    "    for char in word.lower():\n",
    "        if char in vowels:\n",
    "            count += 1\n",
    "    print(count)\n",
    "\n",
    "numVowels(\"Antelope\")"
   ]
  },
  {
   "cell_type": "code",
   "execution_count": 21,
   "metadata": {},
   "outputs": [
    {
     "name": "stdout",
     "output_type": "stream",
     "text": [
      "TIGER\n",
      "ELEPHANT\n",
      "MONKEY\n",
      "ZEBRA\n",
      "PANTHER\n"
     ]
    }
   ],
   "source": [
    "#Question 6\n",
    "animals=['tiger', 'elephant', 'monkey', 'zebra', 'panther']\n",
    "for animal in animals:\n",
    "    print(animal.upper())"
   ]
  },
  {
   "cell_type": "code",
   "execution_count": 22,
   "metadata": {},
   "outputs": [
    {
     "name": "stdout",
     "output_type": "stream",
     "text": [
      "1: ODD\n",
      "2: EVEN\n",
      "3: ODD\n",
      "4: EVEN\n",
      "5: ODD\n",
      "6: EVEN\n",
      "7: ODD\n",
      "8: EVEN\n",
      "9: ODD\n",
      "10: EVEN\n",
      "11: ODD\n",
      "12: EVEN\n",
      "13: ODD\n",
      "14: EVEN\n",
      "15: ODD\n"
     ]
    }
   ],
   "source": [
    "#Question 7\n",
    "for i in range(1,16):\n",
    "    if (i % 2) == 0:\n",
    "        print(f\"{i}: EVEN\")\n",
    "    else:\n",
    "        print(f\"{i}: ODD\")"
   ]
  },
  {
   "cell_type": "code",
   "execution_count": 24,
   "metadata": {},
   "outputs": [
    {
     "name": "stdout",
     "output_type": "stream",
     "text": [
      "The sum of those two numbers is:    6\n"
     ]
    }
   ],
   "source": [
    "#Question 8\n",
    "num1 = input(\"Enter a number:   \")\n",
    "num2 = input(\"Enter a number:   \")\n",
    "print(f\"The sum of those two numbers is:    {int(num1) + int(num2)}\")"
   ]
  },
  {
   "cell_type": "code",
   "execution_count": null,
   "metadata": {},
   "outputs": [],
   "source": []
  }
 ],
 "metadata": {
  "kernelspec": {
   "display_name": "Python 3",
   "language": "python",
   "name": "python3"
  },
  "language_info": {
   "codemirror_mode": {
    "name": "ipython",
    "version": 3
   },
   "file_extension": ".py",
   "mimetype": "text/x-python",
   "name": "python",
   "nbconvert_exporter": "python",
   "pygments_lexer": "ipython3",
   "version": "3.9.6"
  },
  "orig_nbformat": 4
 },
 "nbformat": 4,
 "nbformat_minor": 2
}
